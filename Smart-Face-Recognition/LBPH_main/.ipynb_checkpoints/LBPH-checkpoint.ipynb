{
 "cells": [
  {
   "cell_type": "code",
   "execution_count": 3,
   "id": "b9ff191a",
   "metadata": {},
   "outputs": [],
   "source": [
    "import cv2\n",
    "import numpy as np\n",
    "import os\n",
    "import pandas as pd\n"
   ]
  },
  {
   "cell_type": "code",
   "execution_count": 4,
   "id": "488aa92c",
   "metadata": {},
   "outputs": [
    {
     "name": "stdout",
     "output_type": "stream",
     "text": [
      "[0, 0, 0, 0, 0, 0, 0, 0, 0, 0, 0, 0, 0, 0, 0, 0, 0, 0, 0, 0, 0, 0, 0, 0, 0, 0, 0, 0, 0, 0, 1, 1, 1, 1, 1, 1, 1, 1, 1, 1, 1, 1, 1, 1, 1, 1, 1, 1, 1, 1, 1, 1, 1, 1, 1, 1, 1, 1, 1, 1, 2, 2, 2, 2, 2, 2, 2, 2, 2, 2, 2, 2, 2, 2, 2, 2, 2, 2, 2, 2, 2, 2, 2, 2, 2, 2, 2, 2, 2, 2, 3, 3, 3, 3, 3, 3, 3, 3, 3, 3, 3, 3, 3, 3, 3, 3, 3, 3, 3, 3, 3, 3, 3, 3, 3, 3, 3, 3, 3, 3, 4, 4, 4, 4, 4, 4, 4, 4, 4, 4, 4, 4, 4, 4, 4, 4, 4, 4, 4, 4, 4, 4, 4, 4, 4, 4, 4, 4, 4, 4]\n"
     ]
    }
   ],
   "source": [
    "x_data=[]\n",
    "y_data = []\n",
    "people = sorted(os.listdir('LBPHpeople'))\n",
    "\n",
    "for x in people:\n",
    "    for i in os.listdir('LBPHpeople/'+x):\n",
    "        img1 = cv2.imread('LBPHpeople'+'/'+x+'/'+i, -1)\n",
    "        img = cv2.cvtColor(img1,cv2.COLOR_BGR2GRAY)\n",
    "        img = cv2.resize(img, (224, 224)) \n",
    "        img = img.astype('float')/255.0\n",
    "        img = np.expand_dims(img, axis=0)\n",
    "        img = np.reshape(img,[224,224])\n",
    "        x_data.append(img)\n",
    "        y_data.append(int(x[0:x.find('_')])-1)\n",
    "print(y_data)\n",
    "x_data = np.array(x_data, dtype='float')\n",
    "y_data = np.array(y_data)\n",
    "# y_data = y_data.reshape(len(y_data), 1)\n",
    "\n"
   ]
  },
  {
   "cell_type": "code",
   "execution_count": 5,
   "id": "4dcddd0f",
   "metadata": {},
   "outputs": [],
   "source": [
    "face_recognizer=cv2.face.LBPHFaceRecognizer_create()\n",
    "face_recognizer.train(x_data,y_data)\n",
    "names={0:'Akshansh',1:'Vivek',2:'Sanjyot',3:'Kevin',4:'Aditya'}\n",
    "names_i={'A':'Akshansh','V':'Vivek','S':'Sanjyot','K':'Kevin','Ad':'Aditya'}"
   ]
  },
  {
   "cell_type": "markdown",
   "id": "da3f8dd1",
   "metadata": {},
   "source": [
    "# Predict"
   ]
  },
  {
   "cell_type": "code",
   "execution_count": 6,
   "id": "8351fc09",
   "metadata": {},
   "outputs": [
    {
     "name": "stdout",
     "output_type": "stream",
     "text": [
      "Aditya   Aditya\n",
      "Aditya   Aditya\n",
      "Aditya   Aditya\n",
      "Aditya   Aditya\n",
      "Aditya   Aditya\n",
      "Aditya   Aditya\n",
      "Akshansh   Aditya\n",
      "Akshansh   Akshansh\n",
      "Akshansh   Akshansh\n",
      "Akshansh   Akshansh\n",
      "Akshansh   Akshansh\n",
      "Akshansh   Akshansh\n",
      "Akshansh   Akshansh\n",
      "Akshansh   Akshansh\n",
      "Akshansh   Akshansh\n",
      "Akshansh   Akshansh\n",
      "Akshansh   Akshansh\n",
      "Akshansh   Akshansh\n",
      "Kevin   Kevin\n",
      "Kevin   Kevin\n",
      "Kevin   Kevin\n",
      "Kevin   Kevin\n",
      "Kevin   Kevin\n",
      "Kevin   Kevin\n",
      "Kevin   Kevin\n",
      "Kevin   Kevin\n",
      "Kevin   Kevin\n",
      "Kevin   Kevin\n",
      "Kevin   Kevin\n",
      "Kevin   Kevin\n",
      "Sanjyot   Sanjyot\n",
      "Sanjyot   Sanjyot\n",
      "Sanjyot   Sanjyot\n",
      "Sanjyot   Sanjyot\n",
      "Sanjyot   Sanjyot\n",
      "Vivek   Vivek\n",
      "Vivek   Vivek\n",
      "Vivek   Vivek\n",
      "Vivek   Vivek\n",
      "Vivek   Vivek\n",
      "Vivek   Vivek\n",
      "Vivek   Vivek\n",
      "Vivek   Vivek\n"
     ]
    }
   ],
   "source": [
    "people = sorted(os.listdir('LBPHpeeps'))\n",
    "y=[]\n",
    "yp=[]\n",
    "total=0\n",
    "for x in people:\n",
    "    for i in os.listdir('LBPHpeeps/'+x):\n",
    "        img1 = cv2.imread('LBPHpeeps'+'/'+x+'/'+i, -1)\n",
    "        img = cv2.cvtColor(img1,cv2.COLOR_BGR2GRAY)\n",
    "        img = cv2.resize(img, (224, 224))\n",
    "        img = img.astype('float')/255.0\n",
    "        pre=face_recognizer.predict(img)\n",
    "        \n",
    "        i=i[0:i.find(\"_\")]\n",
    "        print(names_i[i],end=\"   \")\n",
    "        y.append(names_i[i])\n",
    "        yp.append(names[pre[0]])\n",
    "        print(names[pre[0]])\n",
    "        total=total+1\n",
    "#         print(pre)"
   ]
  },
  {
   "cell_type": "code",
   "execution_count": 7,
   "id": "60581bf0",
   "metadata": {},
   "outputs": [
    {
     "name": "stdout",
     "output_type": "stream",
     "text": [
      "Confusion Matrix: \n",
      "\n",
      "[[ 6  0  0  0  0]\n",
      " [ 1 11  0  0  0]\n",
      " [ 0  0 12  0  0]\n",
      " [ 0  0  0  5  0]\n",
      " [ 0  0  0  0  8]]\n",
      "\n",
      "Accuracy on test data:  97.67441860465115\n"
     ]
    }
   ],
   "source": [
    "from sklearn.metrics import confusion_matrix\n",
    "import matplotlib as plt\n",
    "\n",
    "\n",
    "conf_matrix=confusion_matrix(y, yp, labels=[\"Aditya\", \"Akshansh\", \"Kevin\",\"Sanjyot\",\"Vivek\"])\n",
    "conf_matrix\n",
    "print(\"Confusion Matrix: \\n\")\n",
    "print(conf_matrix)\n",
    "num=0\n",
    "for i in range(5):\n",
    "    num=num+conf_matrix[i][i]\n",
    "print(\"\\nAccuracy on test data: \",num/total*100)\n"
   ]
  },
  {
   "cell_type": "markdown",
   "id": "7b231120",
   "metadata": {},
   "source": [
    "# Accuracy on test data:  97.67441860465115"
   ]
  },
  {
   "cell_type": "code",
   "execution_count": 8,
   "id": "a593b60a",
   "metadata": {
    "scrolled": false
   },
   "outputs": [],
   "source": [
    "import os\n",
    "import pymongo\n",
    "import cv2\n",
    "import numpy as np\n",
    "import pandas as pd\n",
    "import warnings\n",
    "import tkinter as tk\n",
    "from FaceDetection.face_detection import face\n",
    "fd = face()\n",
    "cap=cv2.VideoCapture(0)\n",
    "\n",
    "ret=True\n",
    "while ret:\n",
    "    ret,frame=cap.read()\n",
    "    #######Detecting the Faces##################\n",
    "    frame=cv2.flip(frame,1)\n",
    "    \n",
    "    det,coor=fd.detectFace(frame)\n",
    "    if(det is not None):\n",
    "         for i in range(len(det)):\n",
    "            detected = det[i]\n",
    "            gray=cv2.cvtColor(detected,cv2.COLOR_BGR2GRAY)\n",
    "            img = cv2.resize(gray, (224, 224)) \n",
    "            img = img.astype('float')/255.0\n",
    "            img = np.expand_dims(img, axis=0)\n",
    "            img = np.reshape(img,[224,224])\n",
    "    \n",
    "            pre=face_recognizer.predict(gray)\n",
    "#             print(names[pre[0]])\n",
    "            k = coor[i]\n",
    "            cv2.putText(frame, names[pre[0]], (k[0], k[1]), cv2.FONT_HERSHEY_SIMPLEX, 1, (255, 255, 255), 2)\n",
    "            cv2.rectangle(frame, (k[0], k[1]), (k[0]+k[2], k[1]+k[3]), (255, 0, 0), 3)\n",
    "            cv2.imshow('frame',frame)\n",
    "    \n",
    "    if cv2.waitKey(1) & 0xFF==ord('q'):\n",
    "        break\n",
    "    \n",
    "\n",
    "cap.release()\n",
    "cv2.destroyAllWindows()"
   ]
  }
 ],
 "metadata": {
  "kernelspec": {
   "display_name": "Python 3 (ipykernel)",
   "language": "python",
   "name": "python3"
  },
  "language_info": {
   "codemirror_mode": {
    "name": "ipython",
    "version": 3
   },
   "file_extension": ".py",
   "mimetype": "text/x-python",
   "name": "python",
   "nbconvert_exporter": "python",
   "pygments_lexer": "ipython3",
   "version": "3.9.7"
  }
 },
 "nbformat": 4,
 "nbformat_minor": 5
}
