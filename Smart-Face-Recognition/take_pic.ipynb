{
 "cells": [
  {
   "cell_type": "code",
   "execution_count": 1,
   "id": "e15cad9b",
   "metadata": {},
   "outputs": [],
   "source": [
    "import os\n",
    "import pymongo\n",
    "import cv2\n",
    "import numpy as np\n",
    "import pandas as pd\n",
    "import warnings\n",
    "import tkinter as tk"
   ]
  },
  {
   "cell_type": "code",
   "execution_count": 2,
   "id": "c4ae2907",
   "metadata": {},
   "outputs": [],
   "source": [
    "def input_information(Name,Roll_no):\n",
    "        name=Name\n",
    "        roll_no=Roll_no\n",
    "        parent_dir=\"new_pic/\"\n",
    "        final_path=roll_no+\"_\"+name\n",
    "        path=os.path.join(parent_dir,final_path)\n",
    "        return path"
   ]
  },
  {
   "cell_type": "code",
   "execution_count": 4,
   "id": "910d7b7a",
   "metadata": {},
   "outputs": [],
   "source": [
    "path=input_information(\"Akshansh\",\"1\")\n",
    "os.makedirs(path)   ##Creating the path\n",
    "#########################Joining the paths#######################\n",
    "\n",
    "pic_no=0\n",
    "\n",
    "#####################Loading the harcascade classifier#################\n",
    "fa=cv2.CascadeClassifier('FaceDetection/faces.xml')\n",
    "cap=cv2.VideoCapture(0)\n",
    "\n",
    "ret=True\n",
    "while ret:\n",
    "    ret,frame=cap.read()\n",
    "    #######Detecting the Faces##################\n",
    "    frame=cv2.flip(frame,1)\n",
    "    gray=cv2.cvtColor(frame,cv2.COLOR_BGR2GRAY)\n",
    "    faces=fa.detectMultiScale(frame,1.3,5)\n",
    "\n",
    "        #\n",
    "    for (x,y,w,h) in faces:\n",
    "        \n",
    "        cropped=frame[y:y+h,x:x+w]\n",
    "        cv2.rectangle(frame,(x,y),(x+w,y+h),(255,0,0),2,cv2.LINE_AA)\n",
    "#         face_aligned = face_aligner.align(frame, frame_gray, face)\n",
    "        pic_no=pic_no+1\n",
    "        \n",
    "#         img_gray = cv2.cvtColor(cropped,cv2.COLOR_BGR2GRAY)\n",
    "#         img_lbp = np.zeros(img_gray.shape[:2],np.uint8)\n",
    "#         for i in range(0, img_gray.shape[0]):\n",
    "#     \t    for j in range(0, img_gray.shape[1]):\n",
    "# \t\t        img_lbp[i, j] = lbp_calculated_pixel(img_gray, i, j)\n",
    "#         print(\"done\")\n",
    "        cv2.imwrite(path+'/'+str(pic_no)+'.jpg',cropped)\n",
    "    cv2.imshow('frame',frame)\n",
    "#     if cv2.waitKey(1) & 0xFF==ord('q'):\n",
    "#         break\n",
    "    cv2.waitKey(100)\n",
    "    if((pic_no>30) | (0XFF==ord('a'))):\n",
    "        break\n",
    "\n",
    "cap.release()\n",
    "cv2.destroyAllWindows()\n",
    "    \n"
   ]
  }
 ],
 "metadata": {
  "kernelspec": {
   "display_name": "Python 3 (ipykernel)",
   "language": "python",
   "name": "python3"
  },
  "language_info": {
   "codemirror_mode": {
    "name": "ipython",
    "version": 3
   },
   "file_extension": ".py",
   "mimetype": "text/x-python",
   "name": "python",
   "nbconvert_exporter": "python",
   "pygments_lexer": "ipython3",
   "version": "3.9.7"
  }
 },
 "nbformat": 4,
 "nbformat_minor": 5
}
